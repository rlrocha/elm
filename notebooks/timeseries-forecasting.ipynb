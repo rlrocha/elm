{
 "cells": [
  {
   "cell_type": "markdown",
   "metadata": {},
   "source": [
    "## Time Series Forecasting through Extreme Learning Machine"
   ]
  },
  {
   "cell_type": "markdown",
   "metadata": {},
   "source": [
    "### Libraries"
   ]
  },
  {
   "cell_type": "code",
   "execution_count": 1,
   "metadata": {},
   "outputs": [],
   "source": [
    "import pandas as pd\n",
    "import numpy as np\n",
    "import matplotlib.pyplot as plt"
   ]
  },
  {
   "cell_type": "markdown",
   "metadata": {},
   "source": [
    "### Functions"
   ]
  },
  {
   "cell_type": "code",
   "execution_count": 2,
   "metadata": {},
   "outputs": [],
   "source": [
    "def mse_function(Y, Y_pred):\n",
    "    \n",
    "    M, C = Y.shape[0], Y.shape[1] # Number of examples (M) and number of outputs (C)\n",
    "\n",
    "    E = Y-Y_pred # Error between Y true and Y predicted\n",
    "    mse = np.sum(E.T.dot(E))/(M*C) # Mean squared error\n",
    "    \n",
    "    return mse"
   ]
  },
  {
   "cell_type": "code",
   "execution_count": 3,
   "metadata": {},
   "outputs": [],
   "source": [
    "def minmax_normalization(X, a=0, b=1):\n",
    "\n",
    "    xmin, xmax = X.min(), X.max() # Min and max values of data\n",
    "    X_norm = a + ( (X-xmin)*(b-a)/(xmax-xmin) ) # Normalized data in a new range\n",
    "\n",
    "    return X_norm, a, b, xmin, xmax"
   ]
  },
  {
   "cell_type": "code",
   "execution_count": 4,
   "metadata": {},
   "outputs": [],
   "source": [
    "def apply_minmax_normalization(X, a, b, xmin, xmax):\n",
    "\n",
    "    X_norm = a + ( (X-xmin)*(b-a)/(xmax-xmin) ) # Normalized data in a new range\n",
    "\n",
    "    return X_norm"
   ]
  },
  {
   "cell_type": "code",
   "execution_count": 5,
   "metadata": {},
   "outputs": [],
   "source": [
    "def sliding_window(serie, lag=2, step_forward=1):\n",
    "\n",
    "    M = len(serie) # Lenght of time series\n",
    "\n",
    "    X = np.zeros((M-(lag+step_forward-1), lag)) # Input definition\n",
    "    y = np.zeros((M-(lag+step_forward-1), 1)) # Target definition\n",
    "\n",
    "    cont = 0\n",
    "    posinput = lag + cont\n",
    "    posout = posinput + step_forward\n",
    "\n",
    "    i = 0\n",
    "    while posout<=M:\n",
    "\n",
    "        X[i, :] = serie[cont:posinput]\n",
    "        y[i] = serie[posout-1]\n",
    "        cont+=1\n",
    "        posinput = lag+cont\n",
    "        posout = posinput + step_forward\n",
    "        i+=1\n",
    "\n",
    "    return X, y"
   ]
  },
  {
   "cell_type": "code",
   "execution_count": 6,
   "metadata": {},
   "outputs": [],
   "source": [
    "def elm_test(X, w1, w2):\n",
    "    \n",
    "    M = np.size(X, axis=0) # Number of examples\n",
    "    N = np.size(X, axis=1) # Number of features\n",
    "\n",
    "    bias = np.ones(M).reshape(-1, 1) # Bias definition\n",
    "    Xa = np.concatenate((bias, X), axis=1) # Input with bias\n",
    "\n",
    "    S = Xa.dot(w1.T) # Weighted sum of hidden layer\n",
    "    H = np.tanh(S) # Activation function f(x) = tanh(x), dimension M X L\n",
    "\n",
    "    bias = np.ones(M).reshape(-1, 1) # Bias definition\n",
    "    Ha = np.concatenate((bias, H), axis=1) # Activation function with bias\n",
    "\n",
    "    y_pred = Ha.dot(w2.T) # Predictions\n",
    "    \n",
    "    return y_pred"
   ]
  },
  {
   "cell_type": "code",
   "execution_count": 8,
   "metadata": {},
   "outputs": [],
   "source": [
    "def elm_train(X, y, L, w1=None):\n",
    "    \n",
    "    M = np.size(X, axis=0) # Number of examples\n",
    "    N = np.size(X, axis=1) # Number of features\n",
    "    \n",
    "    # If w1 is defined\n",
    "    if w1 is None:\n",
    "        w1 = np.random.uniform(low=-1, high=1, size=(L, N+1)) # Weights with bias\n",
    "\n",
    "    bias = np.ones(M).reshape(-1, 1) # Bias definition\n",
    "    Xa = np.concatenate((bias, X), axis=1) # Input with bias\n",
    "\n",
    "    S = Xa.dot(w1.T) # Weighted sum of hidden layer\n",
    "    H = np.tanh(S) # Activation function f(x) = tanh(x), dimension M X L\n",
    "\n",
    "    bias = np.ones(M).reshape(-1, 1) # Bias definition\n",
    "    Ha = np.concatenate((bias, H), axis=1) # Activation function with bias\n",
    "\n",
    "    w2 = (np.linalg.pinv(Ha).dot(y)).T # w2' = pinv(Ha)*D\n",
    "\n",
    "    y_pred = Ha.dot(w2.T) # Predictions\n",
    "    \n",
    "    return y_pred, w1, w2"
   ]
  },
  {
   "cell_type": "markdown",
   "metadata": {},
   "source": [
    "### Time Series"
   ]
  },
  {
   "cell_type": "code",
   "execution_count": 9,
   "metadata": {},
   "outputs": [
    {
     "data": {
      "text/html": [
       "<div>\n",
       "<style scoped>\n",
       "    .dataframe tbody tr th:only-of-type {\n",
       "        vertical-align: middle;\n",
       "    }\n",
       "\n",
       "    .dataframe tbody tr th {\n",
       "        vertical-align: top;\n",
       "    }\n",
       "\n",
       "    .dataframe thead th {\n",
       "        text-align: right;\n",
       "    }\n",
       "</style>\n",
       "<table border=\"1\" class=\"dataframe\">\n",
       "  <thead>\n",
       "    <tr style=\"text-align: right;\">\n",
       "      <th></th>\n",
       "      <th>time</th>\n",
       "      <th>GPD</th>\n",
       "      <th>IPI</th>\n",
       "    </tr>\n",
       "  </thead>\n",
       "  <tbody>\n",
       "    <tr>\n",
       "      <th>0</th>\n",
       "      <td>1</td>\n",
       "      <td>91.21</td>\n",
       "      <td>92.91</td>\n",
       "    </tr>\n",
       "    <tr>\n",
       "      <th>1</th>\n",
       "      <td>2</td>\n",
       "      <td>91.94</td>\n",
       "      <td>91.07</td>\n",
       "    </tr>\n",
       "    <tr>\n",
       "      <th>2</th>\n",
       "      <td>3</td>\n",
       "      <td>104.64</td>\n",
       "      <td>100.56</td>\n",
       "    </tr>\n",
       "    <tr>\n",
       "      <th>3</th>\n",
       "      <td>4</td>\n",
       "      <td>100.89</td>\n",
       "      <td>93.55</td>\n",
       "    </tr>\n",
       "    <tr>\n",
       "      <th>4</th>\n",
       "      <td>5</td>\n",
       "      <td>105.58</td>\n",
       "      <td>102.82</td>\n",
       "    </tr>\n",
       "  </tbody>\n",
       "</table>\n",
       "</div>"
      ],
      "text/plain": [
       "   time     GPD     IPI\n",
       "0     1   91.21   92.91\n",
       "1     2   91.94   91.07\n",
       "2     3  104.64  100.56\n",
       "3     4  100.89   93.55\n",
       "4     5  105.58  102.82"
      ]
     },
     "execution_count": 9,
     "metadata": {},
     "output_type": "execute_result"
    }
   ],
   "source": [
    "df = pd.read_csv('../data/brazilian_gpd_ipi.csv')\n",
    "df.head()"
   ]
  },
  {
   "cell_type": "code",
   "execution_count": 10,
   "metadata": {},
   "outputs": [
    {
     "data": {
      "image/png": "[encoded data removed]",
      "text/plain": [
       "<Figure size 432x288 with 1 Axes>"
      ]
     },
     "metadata": {
      "needs_background": "light"
     },
     "output_type": "display_data"
    }
   ],
   "source": [
    "df.GPD.plot(color='blue')\n",
    "\n",
    "plt.grid()\n",
    "plt.xlabel('Months')\n",
    "plt.ylabel('GPD')\n",
    "plt.title('Brasilian Gross Domestic Product (1980-1997)')\n",
    "\n",
    "plt.show()"
   ]
  },
  {
   "cell_type": "markdown",
   "metadata": {},
   "source": [
    "### Train-test split"
   ]
  },
  {
   "cell_type": "code",
   "execution_count": 11,
   "metadata": {},
   "outputs": [],
   "source": [
    "train_size = int(len(df.GPD) * 0.8)\n",
    "\n",
    "series_train = df.GPD[:train_size].values\n",
    "time_train = df.time[:train_size].values\n",
    "\n",
    "series_test = df.GPD[train_size:].values\n",
    "time_test = df.time[train_size:].values"
   ]
  },
  {
   "cell_type": "markdown",
   "metadata": {},
   "source": [
    "### Training"
   ]
  },
  {
   "cell_type": "markdown",
   "metadata": {},
   "source": [
    "Normalization"
   ]
  },
  {
   "cell_type": "code",
   "execution_count": 18,
   "metadata": {},
   "outputs": [
    {
     "name": "stdout",
     "output_type": "stream",
     "text": [
      "Min value of time series: 83.37\n",
      "Max value of time series: 134.17\n",
      "Min value of normalized time series: 0.0\n",
      "Max value of normalized time series: 1.0\n"
     ]
    }
   ],
   "source": [
    "series_train_norm, a, b, xmin, xmax = minmax_normalization(series_train, a=0, b=1)\n",
    "series_test_norm = a+( (series_test-xmin)*(b-a)/(xmax-xmin) )\n",
    "\n",
    "print('Min value of time series:', series_train.min())\n",
    "print('Max value of time series:', series_train.max())\n",
    "print('Min value of normalized time series:', series_train_norm.min())\n",
    "print('Max value of normalized time series:', series_train_norm.max())"
   ]
  },
  {
   "cell_type": "markdown",
   "metadata": {},
   "source": [
    "Adjust the normalized data"
   ]
  },
  {
   "cell_type": "code",
   "execution_count": 33,
   "metadata": {},
   "outputs": [
    {
     "name": "stdout",
     "output_type": "stream",
     "text": [
      "Number of lags: 2\n",
      "Number of step forward: 1\n"
     ]
    }
   ],
   "source": [
    "lag = 2 # Size of lag\n",
    "step_forward = 1 # Step forward to prediction\n",
    "\n",
    "print('Number of lags:', lag)\n",
    "print('Number of step forward:', step_forward)\n",
    "\n",
    "# Sliding window or lag or lag method\n",
    "X_train_norm, y_train_norm = sliding_window(series_train_norm, lag, step_forward)\n",
    "X_test_norm, y_test_norm = sliding_window(series_test_norm, lag, step_forward)"
   ]
  },
  {
   "cell_type": "markdown",
   "metadata": {},
   "source": [
    "Training the model"
   ]
  },
  {
   "cell_type": "code",
   "execution_count": null,
   "metadata": {},
   "outputs": [],
   "source": [
    "L = 5 # Number of hidden neurons\n",
    "\n",
    "print('Number of hidden neuros:', L)\n",
    "\n",
    "y_train_pred_norm, w1, w2 = elm_train(X_train_norm, y_train_norm, L)\n",
    "y_test_pred_norm = elm_test(X_test_norm, w1, w2)"
   ]
  },
  {
   "cell_type": "markdown",
   "metadata": {},
   "source": [
    "Training the model: predefined weights"
   ]
  },
  {
   "cell_type": "code",
   "execution_count": 36,
   "metadata": {},
   "outputs": [
    {
     "name": "stdout",
     "output_type": "stream",
     "text": [
      "Number of hidden neuros: 5\n"
     ]
    }
   ],
   "source": [
    "L = 5 # Number of hidden neurons\n",
    "\n",
    "print('Number of hidden neuros:', L)\n",
    "\n",
    "data = np.load('models/ts-weights_1.npz')\n",
    "w1 = data['w1']\n",
    "\n",
    "y_train_pred_norm, w1, w2 = elm_train(X_train_norm, y_train_norm, L, w1=w1)\n",
    "y_test_pred_norm = elm_test(X_test_norm, w1, w2)"
   ]
  },
  {
   "cell_type": "markdown",
   "metadata": {},
   "source": [
    "Revert the normalization"
   ]
  },
  {
   "cell_type": "code",
   "execution_count": 37,
   "metadata": {},
   "outputs": [],
   "source": [
    "y_train_pred = apply_minmax_normalization(y_train_pred_norm, xmin, xmax, a, b)\n",
    "y_test_pred = apply_minmax_normalization(y_test_pred_norm, xmin, xmax, a, b)"
   ]
  },
  {
   "cell_type": "markdown",
   "metadata": {},
   "source": [
    "Adjust the data"
   ]
  },
  {
   "cell_type": "code",
   "execution_count": 38,
   "metadata": {},
   "outputs": [],
   "source": [
    "# Sliding window or lag or lag method\n",
    "X_train, y_train = sliding_window(series_train, lag, step_forward)\n",
    "X_test, y_test = sliding_window(series_test, lag, step_forward)"
   ]
  },
  {
   "cell_type": "code",
   "execution_count": 39,
   "metadata": {},
   "outputs": [
    {
     "name": "stdout",
     "output_type": "stream",
     "text": [
      "Time series: [ 91.21  91.94 104.64 100.89 105.58]\n",
      "\n",
      "Input matrix X:\n",
      "[[ 91.21  91.94]\n",
      " [ 91.94 104.64]\n",
      " [104.64 100.89]]\n",
      "\n",
      "Target variable y:\n",
      "[[104.64]\n",
      " [100.89]\n",
      " [105.58]]\n"
     ]
    }
   ],
   "source": [
    "print('Time series:', series_train[0:5])\n",
    "\n",
    "print('\\nInput matrix X:')\n",
    "print(X_train[0:3])\n",
    "\n",
    "print('\\nTarget variable y:')\n",
    "print(y_train[0:3])"
   ]
  },
  {
   "cell_type": "markdown",
   "metadata": {},
   "source": [
    "Mean squared error"
   ]
  },
  {
   "cell_type": "code",
   "execution_count": 40,
   "metadata": {},
   "outputs": [
    {
     "name": "stdout",
     "output_type": "stream",
     "text": [
      "Training MSE: 30.84006348185438\n",
      "Testing MSE: 42.09714866290891\n"
     ]
    }
   ],
   "source": [
    "train_mse = mse_function(y_train, y_train_pred)\n",
    "test_mse = mse_function(y_test, y_test_pred)\n",
    "\n",
    "print('Training MSE:', train_mse)\n",
    "print('Testing MSE:', test_mse)"
   ]
  },
  {
   "cell_type": "markdown",
   "metadata": {},
   "source": [
    "### Visualization"
   ]
  },
  {
   "cell_type": "code",
   "execution_count": 41,
   "metadata": {},
   "outputs": [
    {
     "data": {
      "image/png": "[encoded data removed]",
      "text/plain": [
       "<Figure size 432x288 with 1 Axes>"
      ]
     },
     "metadata": {
      "needs_background": "light"
     },
     "output_type": "display_data"
    }
   ],
   "source": [
    "point = int((time_train[-1]+time_test[0])/2)\n",
    "\n",
    "plt.plot(time_train, series_train, 'b')\n",
    "plt.plot(time_test, series_test, 'g')\n",
    "plt.plot(time_test[lag:], y_test_pred, 'r--')\n",
    "plt.axvline(point, color='k', linestyle='--')\n",
    "\n",
    "plt.grid()\n",
    "plt.xlabel('Months')\n",
    "plt.ylabel('GPD')\n",
    "plt.title('Brasilian Gross Domestic Product (1980-1997)')\n",
    "\n",
    "plt.show()"
   ]
  }
 ],
 "metadata": {
  "interpreter": {
   "hash": "36cf1946d245b43cf565cbc87ff2a5a21be037b42f94bde6121465682d9db936"
  },
  "kernelspec": {
   "display_name": "Python 3.8.12 ('renv')",
   "language": "python",
   "name": "python3"
  },
  "language_info": {
   "codemirror_mode": {
    "name": "ipython",
    "version": 3
   },
   "file_extension": ".py",
   "mimetype": "text/x-python",
   "name": "python",
   "nbconvert_exporter": "python",
   "pygments_lexer": "ipython3",
   "version": "3.8.12"
  },
  "orig_nbformat": 4
 },
 "nbformat": 4,
 "nbformat_minor": 2
}
